{
 "cells": [
  {
   "cell_type": "code",
   "execution_count": 12,
   "metadata": {},
   "outputs": [],
   "source": [
    "import random\n",
    "import numpy as np"
   ]
  },
  {
   "cell_type": "code",
   "execution_count": null,
   "metadata": {},
   "outputs": [],
   "source": [
    "# Function to calculate Euclidean distance between two points\n",
    "def euclidean_distance(point1, point2):\n",
    "    return np.sqrt(sum(  [(p1 - p2) ** 2 for p1, p2 in zip(point1, point2)]  ))\n",
    "\n",
    "\n",
    "# K-Means clustering function\n",
    "def k_means(X, k, max_iters=100):\n",
    "    # Initialize centroids by randomly selecting k points from the dataset\n",
    "    centroids = random.sample(X, k)\n",
    "\n",
    "    for _ in range(max_iters):\n",
    "        # Create empty clusters\n",
    "        clusters = {i: [] for i in range(k)}\n",
    "\n",
    "        # Assign each point to the nearest centroid\n",
    "        for point in X:\n",
    "            distances = [euclidean_distance(point, centroid) for centroid in centroids]  # Compute distances to all centroids. This will return k distances for each point\n",
    "            closest_cluster = np.argmin(distances)  # Find index of the nearest centroid\n",
    "            clusters[closest_cluster].append(point)  # Assign point to the closest cluster\n",
    "\n",
    "        # Compute new centroids as the mean of assigned points\n",
    "        new_centroids = []\n",
    "        for i, cluster in clusters.items():\n",
    "            new_centroids.append(np.mean(cluster, axis=0).tolist())\n",
    "        \n",
    "        # Stop if centroids do not change\n",
    "        if new_centroids == centroids:\n",
    "            break\n",
    "        \n",
    "        centroids = new_centroids\n",
    "    \n",
    "    return centroids, clusters"
   ]
  },
  {
   "cell_type": "code",
   "execution_count": 34,
   "metadata": {},
   "outputs": [
    {
     "name": "stdout",
     "output_type": "stream",
     "text": [
      "Centroids: [[2.0, 3.0], [9.0, 10.0]]\n",
      "Clusters: {0: [[1, 2], [2, 3], [3, 4]], 1: [[8, 9], [9, 10], [10, 11]]}\n"
     ]
    }
   ],
   "source": [
    "X = [[1, 2], [2, 3], [3, 4], [8, 9], [9, 10], [10, 11]]  # Sample dataset\n",
    "k = 2  # Number of clusters\n",
    "centroids, clusters = k_means(X, k)\n",
    "print(\"Centroids:\", centroids)\n",
    "print(\"Clusters:\", clusters)"
   ]
  },
  {
   "cell_type": "code",
   "execution_count": 36,
   "metadata": {},
   "outputs": [
    {
     "name": "stdout",
     "output_type": "stream",
     "text": [
      "Centroids: [[2.0, 3.0, 4.0], [9.0, 10.0, 11.0]]\n",
      "Clusters: {0: [[1, 2, 3], [2, 3, 4], [3, 4, 5]], 1: [[8, 9, 10], [9, 10, 11], [10, 11, 12]]}\n"
     ]
    }
   ],
   "source": [
    "X = [[1, 2, 3], [2, 3, 4], [3, 4, 5], [8, 9, 10], [9, 10, 11], [10, 11, 12]]  # 3D dataset\n",
    "k = 2  # Number of clusters\n",
    "centroids, clusters = k_means(X, k)\n",
    "print(\"Centroids:\", centroids)\n",
    "print(\"Clusters:\", clusters)"
   ]
  },
  {
   "cell_type": "code",
   "execution_count": null,
   "metadata": {},
   "outputs": [],
   "source": []
  }
 ],
 "metadata": {
  "kernelspec": {
   "display_name": "Python 3",
   "language": "python",
   "name": "python3"
  },
  "language_info": {
   "codemirror_mode": {
    "name": "ipython",
    "version": 3
   },
   "file_extension": ".py",
   "mimetype": "text/x-python",
   "name": "python",
   "nbconvert_exporter": "python",
   "pygments_lexer": "ipython3",
   "version": "3.10.0"
  }
 },
 "nbformat": 4,
 "nbformat_minor": 2
}
