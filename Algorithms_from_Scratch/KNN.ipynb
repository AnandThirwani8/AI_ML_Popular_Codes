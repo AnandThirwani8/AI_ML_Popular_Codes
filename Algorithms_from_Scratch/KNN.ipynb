{
 "cells": [
  {
   "cell_type": "code",
   "execution_count": 39,
   "metadata": {},
   "outputs": [],
   "source": [
    "import numpy as np\n",
    "from collections import Counter"
   ]
  },
  {
   "cell_type": "code",
   "execution_count": 59,
   "metadata": {},
   "outputs": [],
   "source": [
    "# Works with multi dimensional data\n",
    "def euclidean_distance(point1, point2):\n",
    "    \"\"\"Calculate the Euclidean distance between two points.\"\"\"\n",
    "    return np.sqrt(np.sum((point1 - point2) ** 2))\n",
    "\n",
    "def knn_predict(test_point, k, X_train, y_train):\n",
    "    distances = []\n",
    "    for train_point in X_train:\n",
    "        dist = euclidean_distance(test_point, train_point)\n",
    "        distances.append(dist)\n",
    "\n",
    "    # Get indices of k nearest neighbors\n",
    "    k_indices = np.argsort(distances)[:k]\n",
    "\n",
    "    # Get their labels\n",
    "    k_neighbors = y_train[k_indices]\n",
    "\n",
    "    # Return the most common label\n",
    "    return Counter(k_neighbors).most_common(1)[0][0]"
   ]
  },
  {
   "cell_type": "code",
   "execution_count": 62,
   "metadata": {},
   "outputs": [
    {
     "data": {
      "text/plain": [
       "1"
      ]
     },
     "execution_count": 62,
     "metadata": {},
     "output_type": "execute_result"
    }
   ],
   "source": [
    "X_train = np.array([[0, 0], [1, 2], [2, 3], [3, 4], [5, 6]])\n",
    "y_train = np.array([0, 0, 0, 1, 1])\n",
    "test_point = np.array([[6, 7]])\n",
    "\n",
    "knn_predict(test_point, k, X_train, y_train)"
   ]
  },
  {
   "cell_type": "code",
   "execution_count": 63,
   "metadata": {},
   "outputs": [],
   "source": [
    "# Works with multi dimensional data\n",
    "def euclidean_distance(point1, point2):\n",
    "    \"\"\"Calculate the Euclidean distance between two points.\"\"\"\n",
    "    return np.sqrt(np.sum((point1 - point2) ** 2))"
   ]
  },
  {
   "cell_type": "code",
   "execution_count": null,
   "metadata": {},
   "outputs": [],
   "source": [
    "# K-Means clustering function\n",
    "def k_means(X, k, max_iters=100):\n",
    "    # Initialize centroids by randomly selecting k points from the dataset\n",
    "    centroids = random.sample(X, k)\n",
    "\n",
    "    for _ in range(max_iters):\n",
    "        # Create empty clusters\n",
    "        clusters = {i: [] for i in range(k)}\n",
    "\n",
    "        # Assign each point to the nearest centroid\n",
    "        for point in X:\n",
    "            distances = [euclidean_distance(point, centroid) for centroid in centroids]  # Compute distances to all centroids. This will return k distances for each point\n",
    "            closest_cluster = np.argmin(distances)  # Find index of the nearest centroid\n",
    "            clusters[closest_cluster].append(point)  # Assign point to the closest cluster\n",
    "\n",
    "        # Compute new centroids as the mean of assigned points\n",
    "        new_centroids = []\n",
    "        for i, cluster in clusters.items():\n",
    "            new_centroids.append(np.mean(cluster, axis=0).tolist())\n",
    "        \n",
    "        # Stop if centroids do not change\n",
    "        if new_centroids == centroids:\n",
    "            break\n",
    "        \n",
    "        centroids = new_centroids\n",
    "    \n",
    "    return centroids, clusters"
   ]
  },
  {
   "cell_type": "code",
   "execution_count": null,
   "metadata": {},
   "outputs": [],
   "source": []
  },
  {
   "cell_type": "code",
   "execution_count": null,
   "metadata": {},
   "outputs": [],
   "source": []
  },
  {
   "cell_type": "code",
   "execution_count": null,
   "metadata": {},
   "outputs": [],
   "source": []
  }
 ],
 "metadata": {
  "kernelspec": {
   "display_name": "Python 3",
   "language": "python",
   "name": "python3"
  },
  "language_info": {
   "codemirror_mode": {
    "name": "ipython",
    "version": 3
   },
   "file_extension": ".py",
   "mimetype": "text/x-python",
   "name": "python",
   "nbconvert_exporter": "python",
   "pygments_lexer": "ipython3",
   "version": "3.10.0"
  }
 },
 "nbformat": 4,
 "nbformat_minor": 2
}
