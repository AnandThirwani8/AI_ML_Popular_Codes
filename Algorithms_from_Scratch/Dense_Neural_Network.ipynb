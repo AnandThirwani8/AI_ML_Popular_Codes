{
 "cells": [
  {
   "cell_type": "markdown",
   "metadata": {},
   "source": [
    "# Dense Neural Network"
   ]
  },
  {
   "cell_type": "code",
   "execution_count": null,
   "metadata": {},
   "outputs": [],
   "source": [
    "import numpy as np"
   ]
  },
  {
   "cell_type": "markdown",
   "metadata": {},
   "source": [
    "This code implements a simple dense neural network with:\n",
    "\n",
    "- 2 input neurons\n",
    "- 1 hidden layer with 3 neurons (ReLU activation)\n",
    "- 1 output neuron with a sigmoid activation\n",
    "- It uses basic backpropagation for training"
   ]
  },
  {
   "cell_type": "code",
   "execution_count": 1,
   "metadata": {},
   "outputs": [],
   "source": [
    "import numpy as np\n",
    "\n",
    "def sigmoid(x):\n",
    "    return 1 / (1 + np.exp(-x))\n",
    "\n",
    "def relu(x):\n",
    "    return np.maximum(0, x)\n",
    "\n",
    "def relu_derivative(x):\n",
    "    return (x > 0).astype(float)\n",
    "\n",
    "def sigmoid_derivative(x):\n",
    "    return x * (1 - x)"
   ]
  },
  {
   "cell_type": "code",
   "execution_count": null,
   "metadata": {},
   "outputs": [],
   "source": [
    "# Initialize weights and biases\n",
    "# Input shape is (1, num_inputs). Use this to decide shape of all weights and biases\n",
    "\n",
    "np.random.seed(42)\n",
    "w1 = np.random.randn(2, 3)  # Input to hidden\n",
    "b1 = np.zeros((1, 3))\n",
    "w2 = np.random.randn(3, 1)  # Hidden to output\n",
    "b2 = np.zeros((1, 1))"
   ]
  },
  {
   "cell_type": "code",
   "execution_count": 4,
   "metadata": {},
   "outputs": [],
   "source": [
    "# Training data (XOR problem)\n",
    "X = np.array([[0, 0], [0, 1], [1, 0], [1, 1]])\n",
    "y = np.array([[0], [1], [1], [0]])\n",
    "\n",
    "# Training loop\n",
    "lr = 0.1  # Learning rate\n",
    "for _ in range(10000):\n",
    "    # Forward pass\n",
    "    hidden_input = np.dot(X, w1) + b1\n",
    "    hidden_output = relu(hidden_input)\n",
    "    final_input = np.dot(hidden_output, w2) + b2\n",
    "    final_output = sigmoid(final_input)\n",
    "    \n",
    "    # Backpropagation\n",
    "    error = y - final_output\n",
    "    d_output = error * sigmoid_derivative(final_output)\n",
    "    d_hidden = np.dot(d_output, w2.T) * relu_derivative(hidden_output)\n",
    "    \n",
    "    # Update weights and biases\n",
    "    w2 += np.dot(hidden_output.T, d_output) * lr\n",
    "    b2 += np.sum(d_output, axis=0, keepdims=True) * lr\n",
    "    w1 += np.dot(X.T, d_hidden) * lr\n",
    "    b1 += np.sum(d_hidden, axis=0, keepdims=True) * lr\n"
   ]
  },
  {
   "cell_type": "code",
   "execution_count": 5,
   "metadata": {},
   "outputs": [
    {
     "name": "stdout",
     "output_type": "stream",
     "text": [
      "[[0.02969834]\n",
      " [0.98607299]\n",
      " [0.98607278]\n",
      " [0.0116511 ]]\n"
     ]
    }
   ],
   "source": [
    "# Test the trained model\n",
    "print(sigmoid(np.dot(relu(np.dot(X, w1) + b1), w2) + b2))"
   ]
  },
  {
   "cell_type": "code",
   "execution_count": null,
   "metadata": {},
   "outputs": [],
   "source": []
  },
  {
   "cell_type": "code",
   "execution_count": null,
   "metadata": {},
   "outputs": [],
   "source": []
  },
  {
   "cell_type": "code",
   "execution_count": null,
   "metadata": {},
   "outputs": [],
   "source": []
  }
 ],
 "metadata": {
  "kernelspec": {
   "display_name": "Python 3",
   "language": "python",
   "name": "python3"
  },
  "language_info": {
   "codemirror_mode": {
    "name": "ipython",
    "version": 3
   },
   "file_extension": ".py",
   "mimetype": "text/x-python",
   "name": "python",
   "nbconvert_exporter": "python",
   "pygments_lexer": "ipython3",
   "version": "3.10.0"
  }
 },
 "nbformat": 4,
 "nbformat_minor": 2
}
