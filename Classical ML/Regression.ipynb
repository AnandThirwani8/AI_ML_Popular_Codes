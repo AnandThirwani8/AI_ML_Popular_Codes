{
 "cells": [
  {
   "cell_type": "code",
   "execution_count": 15,
   "metadata": {},
   "outputs": [],
   "source": [
    "import tensorflow as tf\n",
    "from tensorflow.keras import layers, Input, Model\n",
    "\n",
    "from sklearn.datasets import fetch_california_housing\n",
    "from sklearn.model_selection import train_test_split\n",
    "from sklearn.ensemble import RandomForestRegressor\n",
    "from sklearn.tree import DecisionTreeRegressor\n",
    "from sklearn.linear_model import LinearRegression\n",
    "from sklearn.metrics import mean_absolute_error, mean_squared_error, r2_score\n",
    "from sklearn.preprocessing import StandardScaler"
   ]
  },
  {
   "cell_type": "code",
   "execution_count": 9,
   "metadata": {},
   "outputs": [],
   "source": [
    "# Load California housing dataset\n",
    "data = fetch_california_housing()\n",
    "X, y = data.data, data.target\n",
    "\n",
    "# Train-test split\n",
    "X_train, X_test, y_train, y_test = train_test_split(X, y, test_size=0.2, random_state=42)\n",
    "\n",
    "# Scale features\n",
    "scaler = StandardScaler()\n",
    "X_train = scaler.fit_transform(X_train)\n",
    "X_test = scaler.transform(X_test)"
   ]
  },
  {
   "cell_type": "code",
   "execution_count": 10,
   "metadata": {},
   "outputs": [
    {
     "name": "stdout",
     "output_type": "stream",
     "text": [
      "Random Forest - MAE: 0.3275553144622095 MSE: 0.2555701270235777 R2: 0.8049691880418459\n",
      "Decision Tree - MAE: 0.454803718507752 MSE: 0.4984179337687742 R2: 0.6196470399356899\n",
      "Linear Regression - MAE: 0.5332001304956566 MSE: 0.5558915986952443 R2: 0.5757877060324508\n"
     ]
    }
   ],
   "source": [
    "# Train Random Forest model\n",
    "rf_model = RandomForestRegressor(random_state=42)\n",
    "rf_model.fit(X_train, y_train)\n",
    "rf_preds = rf_model.predict(X_test)\n",
    "rf_mae = mean_absolute_error(y_test, rf_preds)\n",
    "rf_mse = mean_squared_error(y_test, rf_preds)\n",
    "rf_r2 = r2_score(y_test, rf_preds)\n",
    "\n",
    "# Train Decision Tree model\n",
    "dt_model = DecisionTreeRegressor(random_state=42)\n",
    "dt_model.fit(X_train, y_train)\n",
    "dt_preds = dt_model.predict(X_test)\n",
    "dt_mae = mean_absolute_error(y_test, dt_preds)\n",
    "dt_mse = mean_squared_error(y_test, dt_preds)\n",
    "dt_r2 = r2_score(y_test, dt_preds)\n",
    "\n",
    "# Train Linear Regression model\n",
    "lr_model = LinearRegression()\n",
    "lr_model.fit(X_train, y_train)\n",
    "lr_preds = lr_model.predict(X_test)\n",
    "lr_mae = mean_absolute_error(y_test, lr_preds)\n",
    "lr_mse = mean_squared_error(y_test, lr_preds)\n",
    "lr_r2 = r2_score(y_test, lr_preds)\n",
    "\n",
    "# Print regression metrics\n",
    "print(\"Random Forest - MAE:\", rf_mae, \"MSE:\", rf_mse, \"R2:\", rf_r2)\n",
    "print(\"Decision Tree - MAE:\", dt_mae, \"MSE:\", dt_mse, \"R2:\", dt_r2)\n",
    "print(\"Linear Regression - MAE:\", lr_mae, \"MSE:\", lr_mse, \"R2:\", lr_r2)"
   ]
  },
  {
   "cell_type": "markdown",
   "metadata": {},
   "source": [
    "# NN"
   ]
  },
  {
   "cell_type": "code",
   "execution_count": 17,
   "metadata": {},
   "outputs": [
    {
     "name": "stdout",
     "output_type": "stream",
     "text": [
      "8\n"
     ]
    }
   ],
   "source": [
    "input_shape = X_train.shape[1]\n",
    "output_shape = 1\n",
    "print(input_shape)"
   ]
  },
  {
   "cell_type": "code",
   "execution_count": 27,
   "metadata": {},
   "outputs": [
    {
     "name": "stdout",
     "output_type": "stream",
     "text": [
      "Epoch 1/10\n",
      "\u001b[1m1032/1032\u001b[0m \u001b[32m━━━━━━━━━━━━━━━━━━━━\u001b[0m\u001b[37m\u001b[0m \u001b[1m13s\u001b[0m 10ms/step - loss: 2.4136 - mae: 1.1355 - val_loss: 0.5745 - val_mae: 0.5386\n",
      "Epoch 2/10\n",
      "\u001b[1m1032/1032\u001b[0m \u001b[32m━━━━━━━━━━━━━━━━━━━━\u001b[0m\u001b[37m\u001b[0m \u001b[1m10s\u001b[0m 10ms/step - loss: 2.7630 - mae: 0.5518 - val_loss: 0.5700 - val_mae: 0.5168\n",
      "Epoch 3/10\n",
      "\u001b[1m1032/1032\u001b[0m \u001b[32m━━━━━━━━━━━━━━━━━━━━\u001b[0m\u001b[37m\u001b[0m \u001b[1m10s\u001b[0m 10ms/step - loss: 0.8251 - mae: 0.5126 - val_loss: 0.5792 - val_mae: 0.5283\n",
      "Epoch 4/10\n",
      "\u001b[1m1032/1032\u001b[0m \u001b[32m━━━━━━━━━━━━━━━━━━━━\u001b[0m\u001b[37m\u001b[0m \u001b[1m10s\u001b[0m 10ms/step - loss: 2.2780 - mae: 0.5341 - val_loss: 0.5783 - val_mae: 0.5301\n",
      "Epoch 5/10\n",
      "\u001b[1m1032/1032\u001b[0m \u001b[32m━━━━━━━━━━━━━━━━━━━━\u001b[0m\u001b[37m\u001b[0m \u001b[1m10s\u001b[0m 10ms/step - loss: 1.5597 - mae: 0.5502 - val_loss: 0.6549 - val_mae: 0.5521\n",
      "Epoch 6/10\n",
      "\u001b[1m1032/1032\u001b[0m \u001b[32m━━━━━━━━━━━━━━━━━━━━\u001b[0m\u001b[37m\u001b[0m \u001b[1m9s\u001b[0m 9ms/step - loss: 5.8218 - mae: 0.8951 - val_loss: 0.9011 - val_mae: 0.6703\n",
      "Epoch 7/10\n",
      "\u001b[1m1032/1032\u001b[0m \u001b[32m━━━━━━━━━━━━━━━━━━━━\u001b[0m\u001b[37m\u001b[0m \u001b[1m9s\u001b[0m 9ms/step - loss: 7.6185 - mae: 1.2859 - val_loss: 1.6633 - val_mae: 0.9923\n",
      "Epoch 8/10\n",
      "\u001b[1m1032/1032\u001b[0m \u001b[32m━━━━━━━━━━━━━━━━━━━━\u001b[0m\u001b[37m\u001b[0m \u001b[1m10s\u001b[0m 10ms/step - loss: 7.2708 - mae: 1.2095 - val_loss: 0.6085 - val_mae: 0.5743\n",
      "Epoch 9/10\n",
      "\u001b[1m1032/1032\u001b[0m \u001b[32m━━━━━━━━━━━━━━━━━━━━\u001b[0m\u001b[37m\u001b[0m \u001b[1m10s\u001b[0m 10ms/step - loss: 41.4419 - mae: 2.2647 - val_loss: 0.7132 - val_mae: 0.6468\n",
      "Epoch 10/10\n",
      "\u001b[1m1032/1032\u001b[0m \u001b[32m━━━━━━━━━━━━━━━━━━━━\u001b[0m\u001b[37m\u001b[0m \u001b[1m10s\u001b[0m 9ms/step - loss: 1.4520 - mae: 0.7157 - val_loss: 0.7056 - val_mae: 0.6121\n",
      "\u001b[1m129/129\u001b[0m \u001b[32m━━━━━━━━━━━━━━━━━━━━\u001b[0m\u001b[37m\u001b[0m \u001b[1m0s\u001b[0m 1ms/step\n"
     ]
    }
   ],
   "source": [
    "# NN Model\n",
    "inputs = Input(shape=(input_shape,))\n",
    "x = layers.Dense(16, activation='relu')(inputs)\n",
    "x = layers.Dense(8, activation='relu')(x)\n",
    "x = layers.Dense(4, activation='relu')(x)\n",
    "outputs = layers.Dense(output_shape, activation='linear')(x)\n",
    "model = Model(inputs=inputs, outputs=outputs)\n",
    "model.compile(optimizer='adam', loss='mse' , metrics = ['mae'])\n",
    "\n",
    "# Train model              \n",
    "history = model.fit(X_train, y_train, epochs=10, batch_size=16, verbose=1, validation_data=(X_test, y_test))\n",
    "\n",
    "# Predictions\n",
    "y_pred = model.predict(X_test)"
   ]
  },
  {
   "cell_type": "code",
   "execution_count": 28,
   "metadata": {},
   "outputs": [
    {
     "name": "stdout",
     "output_type": "stream",
     "text": [
      "Neural Network - MAE: 0.6121393245891269 MSE: 0.7056308131871426 R2: 0.46151863662107584\n"
     ]
    }
   ],
   "source": [
    "nn_mae = mean_absolute_error(y_test, y_pred.flatten())\n",
    "nn_mse = mean_squared_error(y_test, y_pred.flatten())\n",
    "nn_r2 = r2_score(y_test, y_pred.flatten())\n",
    "\n",
    "# Print regression metrics\n",
    "print(\"Neural Network - MAE:\", nn_mae, \"MSE:\", nn_mse, \"R2:\", nn_r2)"
   ]
  },
  {
   "cell_type": "code",
   "execution_count": null,
   "metadata": {},
   "outputs": [],
   "source": []
  },
  {
   "cell_type": "code",
   "execution_count": null,
   "metadata": {},
   "outputs": [],
   "source": []
  }
 ],
 "metadata": {
  "kernelspec": {
   "display_name": "Python 3",
   "language": "python",
   "name": "python3"
  },
  "language_info": {
   "codemirror_mode": {
    "name": "ipython",
    "version": 3
   },
   "file_extension": ".py",
   "mimetype": "text/x-python",
   "name": "python",
   "nbconvert_exporter": "python",
   "pygments_lexer": "ipython3",
   "version": "3.10.0"
  }
 },
 "nbformat": 4,
 "nbformat_minor": 2
}
