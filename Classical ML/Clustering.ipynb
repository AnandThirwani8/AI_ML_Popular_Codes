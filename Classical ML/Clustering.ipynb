{
 "cells": [
  {
   "cell_type": "code",
   "execution_count": 11,
   "metadata": {},
   "outputs": [],
   "source": [
    "import numpy as np\n",
    "import pandas as pd\n",
    "from sklearn.datasets import make_classification"
   ]
  },
  {
   "cell_type": "code",
   "execution_count": 12,
   "metadata": {},
   "outputs": [
    {
     "data": {
      "text/html": [
       "<div>\n",
       "<style scoped>\n",
       "    .dataframe tbody tr th:only-of-type {\n",
       "        vertical-align: middle;\n",
       "    }\n",
       "\n",
       "    .dataframe tbody tr th {\n",
       "        vertical-align: top;\n",
       "    }\n",
       "\n",
       "    .dataframe thead th {\n",
       "        text-align: right;\n",
       "    }\n",
       "</style>\n",
       "<table border=\"1\" class=\"dataframe\">\n",
       "  <thead>\n",
       "    <tr style=\"text-align: right;\">\n",
       "      <th></th>\n",
       "      <th>Feature_0</th>\n",
       "      <th>Feature_1</th>\n",
       "      <th>Feature_2</th>\n",
       "      <th>Feature_3</th>\n",
       "      <th>Feature_4</th>\n",
       "      <th>Feature_5</th>\n",
       "      <th>Category</th>\n",
       "    </tr>\n",
       "  </thead>\n",
       "  <tbody>\n",
       "    <tr>\n",
       "      <th>0</th>\n",
       "      <td>0.178293</td>\n",
       "      <td>-2.270570</td>\n",
       "      <td>-0.410813</td>\n",
       "      <td>-1.860566</td>\n",
       "      <td>-0.807720</td>\n",
       "      <td>0.371446</td>\n",
       "      <td>C</td>\n",
       "    </tr>\n",
       "    <tr>\n",
       "      <th>1</th>\n",
       "      <td>-0.595551</td>\n",
       "      <td>-3.169691</td>\n",
       "      <td>-2.574992</td>\n",
       "      <td>-1.529065</td>\n",
       "      <td>-1.514740</td>\n",
       "      <td>-1.160881</td>\n",
       "      <td>A</td>\n",
       "    </tr>\n",
       "    <tr>\n",
       "      <th>2</th>\n",
       "      <td>-0.053728</td>\n",
       "      <td>-3.575985</td>\n",
       "      <td>-0.478321</td>\n",
       "      <td>-1.906439</td>\n",
       "      <td>-1.550047</td>\n",
       "      <td>-1.176061</td>\n",
       "      <td>C</td>\n",
       "    </tr>\n",
       "    <tr>\n",
       "      <th>3</th>\n",
       "      <td>-0.526623</td>\n",
       "      <td>-0.682179</td>\n",
       "      <td>0.030157</td>\n",
       "      <td>0.081195</td>\n",
       "      <td>-0.479275</td>\n",
       "      <td>-1.587228</td>\n",
       "      <td>C</td>\n",
       "    </tr>\n",
       "    <tr>\n",
       "      <th>4</th>\n",
       "      <td>-0.380749</td>\n",
       "      <td>-2.340804</td>\n",
       "      <td>1.444269</td>\n",
       "      <td>-2.690041</td>\n",
       "      <td>-0.750194</td>\n",
       "      <td>-0.410672</td>\n",
       "      <td>A</td>\n",
       "    </tr>\n",
       "    <tr>\n",
       "      <th>...</th>\n",
       "      <td>...</td>\n",
       "      <td>...</td>\n",
       "      <td>...</td>\n",
       "      <td>...</td>\n",
       "      <td>...</td>\n",
       "      <td>...</td>\n",
       "      <td>...</td>\n",
       "    </tr>\n",
       "    <tr>\n",
       "      <th>495</th>\n",
       "      <td>-2.074949</td>\n",
       "      <td>-1.150143</td>\n",
       "      <td>-2.789342</td>\n",
       "      <td>-0.395634</td>\n",
       "      <td>-0.911255</td>\n",
       "      <td>-2.703326</td>\n",
       "      <td>B</td>\n",
       "    </tr>\n",
       "    <tr>\n",
       "      <th>496</th>\n",
       "      <td>-0.747565</td>\n",
       "      <td>-1.280625</td>\n",
       "      <td>0.361380</td>\n",
       "      <td>-0.854775</td>\n",
       "      <td>-0.638469</td>\n",
       "      <td>-1.584892</td>\n",
       "      <td>B</td>\n",
       "    </tr>\n",
       "    <tr>\n",
       "      <th>497</th>\n",
       "      <td>-3.557751</td>\n",
       "      <td>3.364098</td>\n",
       "      <td>-1.851090</td>\n",
       "      <td>0.997647</td>\n",
       "      <td>1.003593</td>\n",
       "      <td>-2.616575</td>\n",
       "      <td>A</td>\n",
       "    </tr>\n",
       "    <tr>\n",
       "      <th>498</th>\n",
       "      <td>-1.213482</td>\n",
       "      <td>-0.656454</td>\n",
       "      <td>-0.648542</td>\n",
       "      <td>-0.281343</td>\n",
       "      <td>-0.507426</td>\n",
       "      <td>-1.927357</td>\n",
       "      <td>B</td>\n",
       "    </tr>\n",
       "    <tr>\n",
       "      <th>499</th>\n",
       "      <td>-2.460980</td>\n",
       "      <td>-0.650255</td>\n",
       "      <td>-1.434696</td>\n",
       "      <td>-0.161650</td>\n",
       "      <td>-0.746798</td>\n",
       "      <td>-3.663211</td>\n",
       "      <td>C</td>\n",
       "    </tr>\n",
       "  </tbody>\n",
       "</table>\n",
       "<p>500 rows × 7 columns</p>\n",
       "</div>"
      ],
      "text/plain": [
       "     Feature_0  Feature_1  Feature_2  Feature_3  Feature_4  Feature_5 Category\n",
       "0     0.178293  -2.270570  -0.410813  -1.860566  -0.807720   0.371446        C\n",
       "1    -0.595551  -3.169691  -2.574992  -1.529065  -1.514740  -1.160881        A\n",
       "2    -0.053728  -3.575985  -0.478321  -1.906439  -1.550047  -1.176061        C\n",
       "3    -0.526623  -0.682179   0.030157   0.081195  -0.479275  -1.587228        C\n",
       "4    -0.380749  -2.340804   1.444269  -2.690041  -0.750194  -0.410672        A\n",
       "..         ...        ...        ...        ...        ...        ...      ...\n",
       "495  -2.074949  -1.150143  -2.789342  -0.395634  -0.911255  -2.703326        B\n",
       "496  -0.747565  -1.280625   0.361380  -0.854775  -0.638469  -1.584892        B\n",
       "497  -3.557751   3.364098  -1.851090   0.997647   1.003593  -2.616575        A\n",
       "498  -1.213482  -0.656454  -0.648542  -0.281343  -0.507426  -1.927357        B\n",
       "499  -2.460980  -0.650255  -1.434696  -0.161650  -0.746798  -3.663211        C\n",
       "\n",
       "[500 rows x 7 columns]"
      ]
     },
     "execution_count": 12,
     "metadata": {},
     "output_type": "execute_result"
    }
   ],
   "source": [
    "# Step 1: Generate Synthetic Dataset\n",
    "np.random.seed(42)\n",
    "X, _ = make_classification(n_samples=500, n_features=6, n_informative=4, \n",
    "                           n_clusters_per_class=1, random_state=42)\n",
    "df = pd.DataFrame(X, columns=[f\"Feature_{i}\" for i in range(X.shape[1])])\n",
    "\n",
    "# Add a categorical feature (for preprocessing demonstration)\n",
    "df[\"Category\"] = np.random.choice([\"A\", \"B\", \"C\"], size=len(df))\n",
    "\n",
    "df"
   ]
  },
  {
   "cell_type": "markdown",
   "metadata": {},
   "source": [
    "# Data preprocessing"
   ]
  },
  {
   "cell_type": "code",
   "execution_count": null,
   "metadata": {},
   "outputs": [],
   "source": []
  },
  {
   "cell_type": "markdown",
   "metadata": {},
   "source": [
    "# Clustering"
   ]
  },
  {
   "cell_type": "code",
   "execution_count": 13,
   "metadata": {},
   "outputs": [
    {
     "name": "stdout",
     "output_type": "stream",
     "text": [
      "K-Means (k=3): Silhouette Score = 0.1825\n",
      "DBSCAN: Silhouette Score = -0.1313\n",
      "Agglomerative: Silhouette Score = 0.1631\n"
     ]
    }
   ],
   "source": [
    "from sklearn.pipeline import Pipeline\n",
    "from sklearn.compose import ColumnTransformer\n",
    "from sklearn.preprocessing import StandardScaler, OneHotEncoder\n",
    "\n",
    "# Step 2: Define Preprocessing Pipeline\n",
    "num_features = df.select_dtypes(include=[\"float64\", \"int64\"]).columns.tolist()\n",
    "cat_features = [\"Category\"]\n",
    "\n",
    "num_pipeline = Pipeline([(\"scaler\", StandardScaler())])\n",
    "cat_pipeline = Pipeline([(\"onehot\", OneHotEncoder(drop=\"first\"))])\n",
    "preprocessor = ColumnTransformer([(\"num\", num_pipeline, num_features), (\"cat\", cat_pipeline, cat_features)])\n",
    "\n",
    "# Step 3: Transform Data\n",
    "X_processed = preprocessor.fit_transform(df)\n",
    "\n",
    "import matplotlib.pyplot as plt\n",
    "import seaborn as sns\n",
    "from sklearn.cluster import KMeans, DBSCAN, AgglomerativeClustering\n",
    "from sklearn.metrics import silhouette_score\n",
    "\n",
    "# Step 4: Apply Clustering Methods\n",
    "def apply_clustering(model, X, name):\n",
    "    clusters = model.fit_predict(X)\n",
    "    score = silhouette_score(X, clusters) if len(set(clusters)) > 1 else -1\n",
    "    print(f\"{name}: Silhouette Score = {score:.4f}\")\n",
    "    return clusters\n",
    "\n",
    "models = {\n",
    "    \"K-Means (k=3)\": KMeans(n_clusters=3, random_state=42),\n",
    "    \"DBSCAN\": DBSCAN(eps=1, min_samples=5),\n",
    "    \"Agglomerative\": AgglomerativeClustering(n_clusters=3)\n",
    "}\n",
    "\n",
    "cluster_results = {name: apply_clustering(model, X_processed, name) for name, model in models.items()}"
   ]
  },
  {
   "cell_type": "markdown",
   "metadata": {},
   "source": [
    "# K Means Optimal K"
   ]
  },
  {
   "cell_type": "code",
   "execution_count": 14,
   "metadata": {},
   "outputs": [
    {
     "data": {
      "image/png": "[encoded data removed]",
      "text/plain": [
       "<Figure size 800x500 with 1 Axes>"
      ]
     },
     "metadata": {},
     "output_type": "display_data"
    }
   ],
   "source": [
    "import numpy as np\n",
    "\n",
    "# Step 1: Try different values of k\n",
    "inertia_values = []\n",
    "k_values = range(1, 11)  # Testing k from 1 to 10\n",
    "\n",
    "for k in k_values:\n",
    "    kmeans = KMeans(n_clusters=k, random_state=42)\n",
    "    kmeans.fit(X_processed)\n",
    "    inertia_values.append(kmeans.inertia_)\n",
    "\n",
    "# Step 2: Plot Elbow Curve\n",
    "plt.figure(figsize=(8, 5))\n",
    "plt.plot(k_values, inertia_values, marker='o', linestyle='-')\n",
    "plt.xlabel(\"Number of Clusters (k)\")\n",
    "plt.ylabel(\"Inertia (Sum of Squared Distances)\")\n",
    "plt.title(\"Elbow Method for Optimal k\")\n",
    "plt.show()"
   ]
  },
  {
   "cell_type": "code",
   "execution_count": null,
   "metadata": {},
   "outputs": [],
   "source": [
    "\n",
    "# Step 5: Visualize Results\n",
    "fig, axes = plt.subplots(1, 3, figsize=(15, 5))\n",
    "for ax, (name, clusters) in zip(axes, cluster_results.items()):\n",
    "    sns.scatterplot(x=X_processed[:, 0], y=X_processed[:, 1], hue=clusters, palette=\"viridis\", ax=ax)\n",
    "    ax.set_title(name)\n",
    "plt.show()"
   ]
  }
 ],
 "metadata": {
  "kernelspec": {
   "display_name": "Python 3",
   "language": "python",
   "name": "python3"
  },
  "language_info": {
   "codemirror_mode": {
    "name": "ipython",
    "version": 3
   },
   "file_extension": ".py",
   "mimetype": "text/x-python",
   "name": "python",
   "nbconvert_exporter": "python",
   "pygments_lexer": "ipython3",
   "version": "3.10.0"
  }
 },
 "nbformat": 4,
 "nbformat_minor": 2
}
